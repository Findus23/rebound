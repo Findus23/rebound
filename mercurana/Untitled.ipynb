{
 "cells": [
  {
   "cell_type": "code",
   "execution_count": 1,
   "metadata": {},
   "outputs": [
    {
     "name": "stdout",
     "output_type": "stream",
     "text": [
      "Nov 17 2019 15:28:08\n"
     ]
    }
   ],
   "source": [
    "import rebound\n",
    "print(rebound.__build__)\n",
    "%matplotlib inline\n",
    "import matplotlib.pylab as plt\n",
    "import numpy as np"
   ]
  },
  {
   "cell_type": "code",
   "execution_count": 43,
   "metadata": {},
   "outputs": [],
   "source": [
    "def setup():\n",
    "    sim = rebound.Simulation()\n",
    "    #sim.softening = 0.01\n",
    "    sim.add(m=1)\n",
    "    sim.add(m=1e-3,a=1)\n",
    "    sim.add(m=1e-3,a=1.2,f=1.213)\n",
    "    sim.dt = sim.particles[1].P*0.00145123123\n",
    "    sim.move_to_com()\n",
    "    return sim\n",
    "def run(sim,times):\n",
    "    E0 = sim.calculate_energy()\n",
    "    Es = np.zeros(Nsamples)\n",
    "    for i, t in enumerate(times):\n",
    "        sim.integrate(t,exact_finish_time=0)\n",
    "        E1 = sim.calculate_energy()\n",
    "        Es[i] = np.abs((E0-E1)/E0)\n",
    "    return Es"
   ]
  },
  {
   "cell_type": "code",
   "execution_count": 55,
   "metadata": {},
   "outputs": [],
   "source": [
    "Nsamples = 1000\n",
    "times = np.linspace(0.,20.,Nsamples)"
   ]
  },
  {
   "cell_type": "code",
   "execution_count": 56,
   "metadata": {},
   "outputs": [],
   "source": [
    "sim = setup()\n",
    "sim.integrator = \"whfast\"\n",
    "sim.ri_whfast.coordinates = \"democraticheliocentric\"\n",
    "E_wh = run(sim,times)"
   ]
  },
  {
   "cell_type": "code",
   "execution_count": 57,
   "metadata": {},
   "outputs": [],
   "source": [
    "sim = setup()\n",
    "sim.integrator = \"mercurius\"\n",
    "E_mercurius = run(sim,times)"
   ]
  },
  {
   "cell_type": "code",
   "execution_count": null,
   "metadata": {},
   "outputs": [],
   "source": [
    "sim = setup()\n",
    "sim.integrator = \"mercurana\"\n",
    "sim.ri_ias15.min_dt = 1e-6\n",
    "E_mercurana = run(sim,times)"
   ]
  },
  {
   "cell_type": "code",
   "execution_count": null,
   "metadata": {},
   "outputs": [],
   "source": [
    "sim = setup()\n",
    "sim.integrator = \"leapfrog\"\n",
    "E_leapfrog = run(sim,times)"
   ]
  },
  {
   "cell_type": "code",
   "execution_count": null,
   "metadata": {},
   "outputs": [],
   "source": [
    "sim = setup()\n",
    "sim.integrator = \"leapfrog\"\n",
    "sim.ri_whfast.kernel = \"6aba363\"\n",
    "E_6aba363 = run(sim,times)"
   ]
  },
  {
   "cell_type": "code",
   "execution_count": null,
   "metadata": {},
   "outputs": [],
   "source": [
    "fig, ax = plt.subplots(1,1,figsize=(10,5))\n",
    "ax.set_yscale(\"log\")\n",
    "ax.plot(times,E_wh,label=\"E_wh\")\n",
    "ax.plot(times,E_mercurius,label=\"E_mercurius\")\n",
    "ax.plot(times,E_leapfrog,label=\"E_leapfrog\")\n",
    "ax.plot(times,E_mercurana,label=\"E_mercurana\")\n",
    "ax.plot(times,E_6aba363,label=\"E_6aba363\")\n",
    "ax.plot(times,np.sqrt((xys[:,1,0]-xys[:,2,0])**2+(xys[:,1,1]-xys[:,2,1])**2),color=\"black\",lw=2) \n",
    "ax.legend();"
   ]
  },
  {
   "cell_type": "code",
   "execution_count": 62,
   "metadata": {},
   "outputs": [],
   "source": [
    "sim = setup()\n",
    "xys = np.zeros((Nsamples,sim.N,2))\n",
    "for i, t in enumerate(times):\n",
    "    sim.integrate(t,exact_finish_time=1)\n",
    "    for j,p in enumerate(sim.particles):\n",
    "        xys[i,j] = (p.x,p.y)"
   ]
  },
  {
   "cell_type": "code",
   "execution_count": 64,
   "metadata": {},
   "outputs": [
    {
     "data": {
      "image/png": "[encoded data removed]",
      "text/plain": [
       "<Figure size 720x360 with 1 Axes>"
      ]
     },
     "metadata": {
      "needs_background": "light"
     },
     "output_type": "display_data"
    }
   ],
   "source": [
    "fig, ax = plt.subplots(1,1,figsize=(10,5))\n",
    "#ax.scatter(xys[:,:,0],xys[:,:,1]);\n",
    "ax.scatter(xys[:,1,0]-xys[:,2,0],xys[:,1,1]-xys[:,2,1]);"
   ]
  },
  {
   "cell_type": "code",
   "execution_count": null,
   "metadata": {},
   "outputs": [],
   "source": []
  }
 ],
 "metadata": {
  "kernelspec": {
   "display_name": "Python 3",
   "language": "python",
   "name": "python3"
  },
  "language_info": {
   "codemirror_mode": {
    "name": "ipython",
    "version": 3
   },
   "file_extension": ".py",
   "mimetype": "text/x-python",
   "name": "python",
   "nbconvert_exporter": "python",
   "pygments_lexer": "ipython3",
   "version": "3.5.1"
  }
 },
 "nbformat": 4,
 "nbformat_minor": 2
}
