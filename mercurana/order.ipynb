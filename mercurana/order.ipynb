{
 "cells": [
  {
   "cell_type": "code",
   "execution_count": 1,
   "metadata": {
    "collapsed": false
   },
   "outputs": [
    {
     "name": "stdout",
     "output_type": "stream",
     "text": [
      "Nov 21 2019 16:54:33\n"
     ]
    }
   ],
   "source": [
    "import rebound\n",
    "print(rebound.__build__)\n",
    "%matplotlib inline\n",
    "import matplotlib.pylab as plt\n",
    "import numpy as np"
   ]
  },
  {
   "cell_type": "code",
   "execution_count": 13,
   "metadata": {
    "collapsed": false
   },
   "outputs": [],
   "source": [
    "def setup():\n",
    "    sim = rebound.Simulation()\n",
    "    #sim.softening = 0.01\n",
    "    sim.add(m=1)\n",
    "    for i in range(4):\n",
    "        sim.add(m=1e-3,a=1.02+i*.4123,f=1.2443+i*2.25435436)\n",
    "    sim.dt = sim.particles[1].P/20.\n",
    "    sim.move_to_com()\n",
    "    return sim\n",
    "def run(sim,times,record=True):\n",
    "    E0 = sim.calculate_energy()\n",
    "    if record:\n",
    "        Es = np.zeros(Nsamples)\n",
    "        for i, t in enumerate(times):\n",
    "            sim.integrate(t,exact_finish_time=0)\n",
    "            E1 = sim.calculate_energy()\n",
    "            Es[i] = np.abs((E0-E1)/E0)\n",
    "    else:\n",
    "        sim.integrate(times[-1],exact_finish_time=0)\n",
    "        E1 = sim.calculate_energy()\n",
    "        Es = np.ones(Nsamples)*np.abs((E0-E1)/E0)\n",
    "    return Es"
   ]
  },
  {
   "cell_type": "code",
   "execution_count": 14,
   "metadata": {
    "collapsed": true
   },
   "outputs": [],
   "source": [
    "P1 = setup().particles[1].P\n",
    "Nsamples = 1000\n",
    "times = np.linspace(0.,130.,Nsamples)"
   ]
  },
  {
   "cell_type": "code",
   "execution_count": 15,
   "metadata": {
    "collapsed": false
   },
   "outputs": [
    {
     "ename": "KeyboardInterrupt",
     "evalue": "",
     "output_type": "error",
     "traceback": [
      "\u001b[0;31m---------------------------------------------------------------------------\u001b[0m",
      "\u001b[0;31mKeyboardInterrupt\u001b[0m                         Traceback (most recent call last)",
      "\u001b[0;32m<ipython-input-15-419afe0cbc53>\u001b[0m in \u001b[0;36m<module>\u001b[0;34m()\u001b[0m\n\u001b[1;32m     25\u001b[0m     \u001b[0msim\u001b[0m\u001b[0;34m.\u001b[0m\u001b[0mri_mercurana\u001b[0m\u001b[0;34m.\u001b[0m\u001b[0morder\u001b[0m\u001b[0;34m=\u001b[0m\u001b[0;36m6\u001b[0m\u001b[0;34m\u001b[0m\u001b[0m\n\u001b[1;32m     26\u001b[0m     \u001b[0msim\u001b[0m\u001b[0;34m.\u001b[0m\u001b[0mdt\u001b[0m \u001b[0;34m=\u001b[0m \u001b[0mdt\u001b[0m\u001b[0;34m\u001b[0m\u001b[0m\n\u001b[0;32m---> 27\u001b[0;31m     \u001b[0mE_mercurana6\u001b[0m\u001b[0;34m[\u001b[0m\u001b[0mi\u001b[0m\u001b[0;34m]\u001b[0m \u001b[0;34m=\u001b[0m \u001b[0mnp\u001b[0m\u001b[0;34m.\u001b[0m\u001b[0mmax\u001b[0m\u001b[0;34m(\u001b[0m\u001b[0mrun\u001b[0m\u001b[0;34m(\u001b[0m\u001b[0msim\u001b[0m\u001b[0;34m,\u001b[0m\u001b[0mtimes\u001b[0m\u001b[0;34m)\u001b[0m\u001b[0;34m)\u001b[0m\u001b[0;34m\u001b[0m\u001b[0m\n\u001b[0m",
      "\u001b[0;32m<ipython-input-13-6db18396a1cc>\u001b[0m in \u001b[0;36mrun\u001b[0;34m(sim, times, record)\u001b[0m\n\u001b[1;32m     13\u001b[0m         \u001b[0mEs\u001b[0m \u001b[0;34m=\u001b[0m \u001b[0mnp\u001b[0m\u001b[0;34m.\u001b[0m\u001b[0mzeros\u001b[0m\u001b[0;34m(\u001b[0m\u001b[0mNsamples\u001b[0m\u001b[0;34m)\u001b[0m\u001b[0;34m\u001b[0m\u001b[0m\n\u001b[1;32m     14\u001b[0m         \u001b[0;32mfor\u001b[0m \u001b[0mi\u001b[0m\u001b[0;34m,\u001b[0m \u001b[0mt\u001b[0m \u001b[0;32min\u001b[0m \u001b[0menumerate\u001b[0m\u001b[0;34m(\u001b[0m\u001b[0mtimes\u001b[0m\u001b[0;34m)\u001b[0m\u001b[0;34m:\u001b[0m\u001b[0;34m\u001b[0m\u001b[0m\n\u001b[0;32m---> 15\u001b[0;31m             \u001b[0msim\u001b[0m\u001b[0;34m.\u001b[0m\u001b[0mintegrate\u001b[0m\u001b[0;34m(\u001b[0m\u001b[0mt\u001b[0m\u001b[0;34m,\u001b[0m\u001b[0mexact_finish_time\u001b[0m\u001b[0;34m=\u001b[0m\u001b[0;36m0\u001b[0m\u001b[0;34m)\u001b[0m\u001b[0;34m\u001b[0m\u001b[0m\n\u001b[0m\u001b[1;32m     16\u001b[0m             \u001b[0mE1\u001b[0m \u001b[0;34m=\u001b[0m \u001b[0msim\u001b[0m\u001b[0;34m.\u001b[0m\u001b[0mcalculate_energy\u001b[0m\u001b[0;34m(\u001b[0m\u001b[0;34m)\u001b[0m\u001b[0;34m\u001b[0m\u001b[0m\n\u001b[1;32m     17\u001b[0m             \u001b[0mEs\u001b[0m\u001b[0;34m[\u001b[0m\u001b[0mi\u001b[0m\u001b[0;34m]\u001b[0m \u001b[0;34m=\u001b[0m \u001b[0mnp\u001b[0m\u001b[0;34m.\u001b[0m\u001b[0mabs\u001b[0m\u001b[0;34m(\u001b[0m\u001b[0;34m(\u001b[0m\u001b[0mE0\u001b[0m\u001b[0;34m-\u001b[0m\u001b[0mE1\u001b[0m\u001b[0;34m)\u001b[0m\u001b[0;34m/\u001b[0m\u001b[0mE0\u001b[0m\u001b[0;34m)\u001b[0m\u001b[0;34m\u001b[0m\u001b[0m\n",
      "\u001b[0;32m/Users/rein/git/rebound/rebound/simulation.pyc\u001b[0m in \u001b[0;36mintegrate\u001b[0;34m(self, tmax, exact_finish_time)\u001b[0m\n\u001b[1;32m   1702\u001b[0m             \u001b[0;32mraise\u001b[0m \u001b[0mEscape\u001b[0m\u001b[0;34m(\u001b[0m\u001b[0;34m\"User caused exit. Simulation did not finish.\"\u001b[0m\u001b[0;34m)\u001b[0m \u001b[0;31m# should not occur in python\u001b[0m\u001b[0;34m\u001b[0m\u001b[0m\n\u001b[1;32m   1703\u001b[0m         \u001b[0;32mif\u001b[0m \u001b[0mret_value\u001b[0m \u001b[0;34m==\u001b[0m \u001b[0;36m6\u001b[0m\u001b[0;34m:\u001b[0m\u001b[0;34m\u001b[0m\u001b[0m\n\u001b[0;32m-> 1704\u001b[0;31m             \u001b[0;32mraise\u001b[0m \u001b[0mKeyboardInterrupt\u001b[0m\u001b[0;34m\u001b[0m\u001b[0m\n\u001b[0m\u001b[1;32m   1705\u001b[0m         \u001b[0;32mif\u001b[0m \u001b[0mret_value\u001b[0m \u001b[0;34m==\u001b[0m \u001b[0;36m7\u001b[0m\u001b[0;34m:\u001b[0m\u001b[0;34m\u001b[0m\u001b[0m\n\u001b[1;32m   1706\u001b[0m             \u001b[0;32mraise\u001b[0m \u001b[0mCollision\u001b[0m\u001b[0;34m(\u001b[0m\u001b[0;34m\"Two particles collided (d < r1+r2)\"\u001b[0m\u001b[0;34m)\u001b[0m\u001b[0;34m\u001b[0m\u001b[0m\n",
      "\u001b[0;31mKeyboardInterrupt\u001b[0m: "
     ]
    }
   ],
   "source": [
    "Ndts = 140\n",
    "dts = P1*np.logspace(-3,0,Ndts)\n",
    "E_wh = np.zeros(Ndts)\n",
    "E_mercurana2 = np.zeros(Ndts)\n",
    "E_mercurana4 = np.zeros(Ndts)\n",
    "E_mercurana6 = np.zeros(Ndts)\n",
    "E_leapfrog = np.zeros(Ndts)\n",
    "for i, dt in enumerate(dts):\n",
    "    sim = setup()\n",
    "    sim.integrator = \"whfast\"\n",
    "    sim.dt = dt\n",
    "    E_wh[i] = np.max(run(sim,times))\n",
    "    sim = setup()\n",
    "    sim.integrator = \"mercurana\"\n",
    "    sim.ri_mercurana.order=2\n",
    "    sim.dt = dt\n",
    "    E_mercurana2[i] = np.max(run(sim,times))\n",
    "    sim = setup()\n",
    "    sim.integrator = \"mercurana\"\n",
    "    sim.ri_mercurana.order=4\n",
    "    sim.dt = dt    \n",
    "    E_mercurana4[i] = np.max(run(sim,times))\n",
    "    sim = setup()\n",
    "    sim.integrator = \"mercurana\"\n",
    "    sim.ri_mercurana.order=6\n",
    "    sim.dt = dt    \n",
    "    E_mercurana6[i] = np.max(run(sim,times))"
   ]
  },
  {
   "cell_type": "code",
   "execution_count": 16,
   "metadata": {
    "collapsed": false
   },
   "outputs": [
    {
     "data": {
      "image/png": "[encoded data removed]",
      "text/plain": [
       "<Figure size 1000x500 with 1 Axes>"
      ]
     },
     "metadata": {},
     "output_type": "display_data"
    }
   ],
   "source": [
    "fig, ax = plt.subplots(1,1,figsize=(10,5))\n",
    "ax.set_xscale(\"log\")\n",
    "ax.set_yscale(\"log\")\n",
    "ax.plot(dts,E_wh,label=\"E_wh\")\n",
    "ax.plot(dts,E_mercurana2,label=\"E_mercurana2\")\n",
    "ax.plot(dts,E_mercurana4,label=\"E_mercurana4\")\n",
    "ax.plot(dts,E_mercurana6,label=\"E_mercurana6\")\n",
    "ax.plot(dts,1e-6*np.power(dts,6),label=\"6\",color=\"black\")\n",
    "ax.legend();"
   ]
  },
  {
   "cell_type": "code",
   "execution_count": null,
   "metadata": {
    "collapsed": false
   },
   "outputs": [],
   "source": [
    "rebound.OrbitPlot(setup())"
   ]
  },
  {
   "cell_type": "code",
   "execution_count": null,
   "metadata": {
    "collapsed": true
   },
   "outputs": [],
   "source": []
  },
  {
   "cell_type": "code",
   "execution_count": null,
   "metadata": {
    "collapsed": true
   },
   "outputs": [],
   "source": []
  },
  {
   "cell_type": "code",
   "execution_count": null,
   "metadata": {
    "collapsed": true
   },
   "outputs": [],
   "source": []
  },
  {
   "cell_type": "code",
   "execution_count": null,
   "metadata": {
    "collapsed": true
   },
   "outputs": [],
   "source": []
  }
 ],
 "metadata": {
  "kernelspec": {
   "display_name": "Python 2",
   "language": "python",
   "name": "python2"
  },
  "language_info": {
   "codemirror_mode": {
    "name": "ipython",
    "version": 2
   },
   "file_extension": ".py",
   "mimetype": "text/x-python",
   "name": "python",
   "nbconvert_exporter": "python",
   "pygments_lexer": "ipython2",
   "version": "2.7.10"
  },
  "widgets": {
   "state": {},
   "version": "1.1.2"
  }
 },
 "nbformat": 4,
 "nbformat_minor": 2
}
